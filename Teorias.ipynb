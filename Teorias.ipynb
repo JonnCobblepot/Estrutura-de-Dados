{
 "cells": [
  {
   "cell_type": "markdown",
   "id": "74870169",
   "metadata": {},
   "source": [
    "# **SUMÁRIO**\n",
    "\n",
    "ESTE ARQUIVO POSSUI O SEGUINTE CONTEÚDO:\n",
    "```\n",
    "1. Struct\n",
    "\n",
    "2. TAD (Tipo Abstrato de Dados)\n",
    "   2.1 Processo de Modularização\n",
    "   2.2 Arquivos Cabeçhalhos (.h)\n",
    "   2.3 Tipo Abstrato de Dados (TAD)\n",
    "   2.4 Makefile\n",
    "\n",
    "3. Pilha (Stack)\n",
    "\n",
    "4. Fila (Queue)\n",
    "```"
   ]
  },
  {
   "cell_type": "markdown",
   "id": "e823358c",
   "metadata": {},
   "source": [
    "\n",
    "---\n",
    "\n",
    "# **1. Struct**\n",
    "\n",
    "- Define um conjunto de informações/tipos atribuídos a um elemento, como uma \"pessoa\" que pode ser descrita pelo nome, endereço, idade, estado civil e mais. Abaixo se encontra um exemplo da aplicação:\n"
   ]
  },
  {
   "cell_type": "markdown",
   "id": "22937e1a",
   "metadata": {},
   "source": [
    "```c\n",
    "#include <stdio.h>\n",
    "\n",
    "typedef struct {\n",
    "    char nome[30];\n",
    "    int idade;\n",
    "    char endereco[100];\n",
    "} Dados;\n",
    "\n",
    "void ler_dados(Dados *p1) {\n",
    "    printf(\"Entre com o nome: \");\n",
    "    scanf(\"%s\", p1->nome);\n",
    "    printf(\"Entre com a idade: \");\n",
    "    scanf(\"%d\", p1->idade);\n",
    "    printf(\"Entre com o endereco: \");\n",
    "    scanf(\"%s\", p1->endereco);\n",
    "}\n",
    "\n",
    "void imprimir_pessoa(Dados *p1)\n",
    "{\n",
    "   printf(\"----------------------\\n\");\n",
    "   printf(\"Nome: %s\\n\", p1->nome);\n",
    "   printf(\"Idade: %d\\n\", p1->idade);\n",
    "   printf(\"Endereco: %s\\n\", p1->endereco);\n",
    "   printf(\"----------------------\\n\");\n",
    "}\n",
    "\n",
    "int main(void) {\n",
    "    Dados pessoa1;\n",
    "    ler_dados(&pessoa1);\n",
    "    imprimir_pessoa(&pessoa1);\n",
    "\n",
    "    return 0;\n",
    "}\n",
    "```"
   ]
  },
  {
   "cell_type": "markdown",
   "id": "42b8d8d1",
   "metadata": {},
   "source": [
    "\n",
    "---\n",
    "\n",
    "# **TAD (Tipo Abstrato de Dados)**\n",
    "\n",
    "### **1. Processo de Modularização**\n",
    "\n",
    "- Os dados armazenados podem ser manipulados apenas pelos operadores, com isso se tem um encapsulamento de informações, escondendo o código fonte do que é fornecido ao usuário para testar.\n",
    "\n",
    "- Só se tem acesso às operações de manipulação dos dados, e não os dados em si\n",
    "\n",
    "- Assim, é dividido o programa em vários arquivos (Modularização), na qual tem-se os `arquivos fonte (.c)` chamados agora de módulos. Como a linguagem C é compilada, então cada um desses arquivos devem ser compilados separadamente, resultando em `arquivos objeto (.o ou .obj)`. Após a compilação, esses arquivos objeto devem ser juntados em um só em uma linguagem de máquina, sendo os `arquivos executávels (.exe)`.\n",
    "\n",
    "Um exemplo disso é se ter um arquivo fonte funcoes.c que contem as funções de manipulação já declaradas, e um arquivo fonte main.c que apenas terá os parâmetros de chamada para o que está no outro arquivo. Os comandos para a compilação desses dados de exemplo são dados como: \n",
    "- > gcc -c funcoes.c\n",
    "- > gcc -c main.c\n",
    "- > gcc -o teste.exe funcoes.o main.o"
   ]
  },
  {
   "cell_type": "markdown",
   "id": "e08df109",
   "metadata": {},
   "source": [
    "### **2. Arquivos cabeçalhos (.h)**\n",
    "\n",
    "- Os `arquivos cabeçalhos (.h)` são associados a cada módulo (provindos dos arquivos fonte) trazendo as definições das funções que ele exporta. Ele segue o mesmo nome do arquivo a qual associa (funcoes.h, como exemplo)\n",
    "\n",
    "Olhe um exemplo de implementação:\n",
    "\n",
    "#### **funcoes.c**\n",
    "```c\n",
    "#include <stdio.h>\n",
    "int comprimento (char* strg){\n",
    "    int i = 0;\n",
    "    while (strg[i] != '\\0') {\n",
    "        i++;}\n",
    "    return i;}\n",
    "\n",
    "void copia (char* dest, char* orig){\n",
    "    int i = 0;\n",
    "    while (orig[i] != '\\0') {\n",
    "        dest[i] = orig[i];\n",
    "        i++;}\n",
    "    dest[i] = '\\0';}\n",
    "\n",
    "void concatena (char* dest, char* orig){\n",
    "    int i = 0;\n",
    "    while (dest[i] != '\\0') {\n",
    "        i++;}\n",
    "    int j = 0;\n",
    "    while (orig[j] != '\\0') {\n",
    "        dest[i] = orig[j];\n",
    "        i++;\n",
    "        j++;}\n",
    "    dest[i] = '\\0';}\n",
    "```\n",
    "\n",
    "#### **funcoes.h**\n",
    "```c\n",
    "int comprimento (char* str); // Função comprimento: Retorna n° de caracteres da str \n",
    "void copia (char* dest, char* orig); // Função copia: Copia a str orig para a str dest\n",
    "void concatena (char* dest, char* orig); // Função concatena: Concatena a str orig na str dest \n",
    "```\n",
    "\n",
    "#### **main.c**\n",
    "```c\n",
    "#include <stdio.h>      // Módulo da Biblioteca C Padrão\n",
    "#include \"funcoes.h\"    // Módulo Próprio \n",
    "int main (void) {\n",
    "    char str[101], str1[51], str2[51];\n",
    "    printf(\"Entre com uma sequência de caracteres: \");\n",
    "    scanf(\" %50[^\\n]\", str1);\n",
    "    printf(\"Entre com outra sequência de caracteres: \");\n",
    "    scanf(\" %50[^\\n]\", str2);\n",
    "    copia(str, str1);  concatena(str, str2);\n",
    "    printf(\"Comprimento total: %d\\n\",comprimento(str));\n",
    "    return 0;}\n",
    "```\n",
    "\n",
    "_OBS: usar \"<...>\" indica ao compilador onde deve procurar os arquivos de cabeçalho/importações_\n"
   ]
  },
  {
   "cell_type": "markdown",
   "id": "fb0efc5c",
   "metadata": {},
   "source": [
    "### **3. Tipo Abstrato de Dados (TAD)**\n",
    "\n"
   ]
  },
  {
   "cell_type": "markdown",
   "id": "462fe2f7",
   "metadata": {},
   "source": [
    "### **4. Makefile**\n"
   ]
  },
  {
   "cell_type": "markdown",
   "id": "0238bea6",
   "metadata": {},
   "source": [
    "\n",
    "---\n",
    "# **Pilha (Stack)**\n",
    "\n",
    "- L.I.F.O = *Last in, First out*\n",
    "- A cada c"
   ]
  },
  {
   "cell_type": "markdown",
   "id": "9a6ed27a",
   "metadata": {},
   "source": [
    "\n",
    "---\n",
    "# **Fila (Queue)**\n",
    "\n",
    "- F.I.F.O = *First in, First out*"
   ]
  }
 ],
 "metadata": {
  "language_info": {
   "name": "python"
  }
 },
 "nbformat": 4,
 "nbformat_minor": 5
}
