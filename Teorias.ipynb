{
 "cells": [
  {
   "cell_type": "markdown",
   "id": "e823358c",
   "metadata": {},
   "source": [
    "# **Struct**"
   ]
  },
  {
   "cell_type": "markdown",
   "id": "42b8d8d1",
   "metadata": {},
   "source": [
    "# **TAD (Tipo Abstrato de Dados)**"
   ]
  },
  {
   "cell_type": "markdown",
   "id": "0238bea6",
   "metadata": {},
   "source": [
    "# **Pilha (Stack)**\n",
    "\n",
    "- L.I.F.O = *Last in, First out*\n",
    "- A cada c"
   ]
  },
  {
   "cell_type": "markdown",
   "id": "9a6ed27a",
   "metadata": {},
   "source": [
    "# **Fila (Queue)**\n",
    "\n",
    "- F.I.F.O = *First in, First out*"
   ]
  }
 ],
 "metadata": {
  "language_info": {
   "name": "python"
  }
 },
 "nbformat": 4,
 "nbformat_minor": 5
}
